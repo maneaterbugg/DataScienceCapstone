{
 "metadata": {
  "kernelspec": {
   "name": "python3",
   "display_name": "Python 3 (ipykernel)",
   "language": "python"
  },
  "language_info": {
   "codemirror_mode": {
    "name": "python",
    "version": 3
   },
   "file_extension": ".py",
   "mimetype": "text/x-python",
   "name": "python",
   "nbconvert_exporter": "python",
   "pygments_lexer": "ipython3",
   "version": "3.8"
  },
  "prev_pub_hash": "f3a975115a2da354291efb612386314ee2abe0082874d4754d94eb94f03a1025"
 },
 "nbformat_minor": 4,
 "nbformat": 4,
 "cells": [
  {
   "cell_type": "markdown",
   "source": "<p style=\"text-align:center\">\n    <a href=\"https://skills.network/?utm_medium=Exinfluencer&utm_source=Exinfluencer&utm_content=000026UJ&utm_term=10006555&utm_id=NA-SkillsNetwork-Channel-SkillsNetworkCoursesIBMDS0321ENSkillsNetwork26802033-2022-01-01\" target=\"_blank\">\n    <img src=\"https://cf-courses-data.s3.us.cloud-object-storage.appdomain.cloud/assets/logos/SN_web_lightmode.png\" width=\"200\" alt=\"Skills Network Logo\">\n    </a>\n</p>\n",
   "metadata": {}
  },
  {
   "cell_type": "markdown",
   "source": "# **Launch Sites Locations Analysis with Folium**\n",
   "metadata": {}
  },
  {
   "cell_type": "markdown",
   "source": "Estimated time needed: **40** minutes\n",
   "metadata": {}
  },
  {
   "cell_type": "markdown",
   "source": "The launch success rate may depend on many factors such as payload mass, orbit type, and so on. It may also depend on the location and proximities of a launch site, i.e., the initial position of rocket trajectories. Finding an optimal location for building a launch site certainly involves many factors and hopefully we could discover some of the factors by analyzing the existing launch site locations.\n",
   "metadata": {}
  },
  {
   "cell_type": "markdown",
   "source": "In the previous exploratory data analysis labs, you have visualized the SpaceX launch dataset using `matplotlib` and `seaborn` and discovered some preliminary correlations between the launch site and success rates. In this lab, you will be performing more interactive visual analytics using `Folium`.\n",
   "metadata": {}
  },
  {
   "cell_type": "markdown",
   "source": "## Objectives\n",
   "metadata": {}
  },
  {
   "cell_type": "markdown",
   "source": "This lab contains the following tasks:\n\n*   **TASK 1:** Mark all launch sites on a map\n*   **TASK 2:** Mark the success/failed launches for each site on the map\n*   **TASK 3:** Calculate the distances between a launch site to its proximities\n\nAfter completed the above tasks, you should be able to find some geographical patterns about launch sites.\n",
   "metadata": {}
  },
  {
   "cell_type": "markdown",
   "source": "Let's first import required Python packages for this lab:\n",
   "metadata": {}
  },
  {
   "cell_type": "code",
   "source": "import folium\nimport pandas as pd",
   "metadata": {
    "ExecuteTime": {
     "end_time": "2024-10-19T13:14:18.123265Z",
     "start_time": "2024-10-19T13:14:17.288159Z"
    }
   },
   "outputs": [],
   "execution_count": 1
  },
  {
   "cell_type": "code",
   "source": "# Import folium MarkerCluster plugin\nfrom folium.plugins import MarkerCluster\n# Import folium MousePosition plugin\nfrom folium.plugins import MousePosition\n# Import folium DivIcon plugin\nfrom folium.features import DivIcon",
   "metadata": {
    "ExecuteTime": {
     "end_time": "2024-10-19T13:14:20.972470Z",
     "start_time": "2024-10-19T13:14:20.844940Z"
    }
   },
   "outputs": [],
   "execution_count": 2
  },
  {
   "cell_type": "markdown",
   "source": "If you need to refresh your memory about folium, you may download and refer to this previous folium lab:\n",
   "metadata": {}
  },
  {
   "cell_type": "markdown",
   "source": "[Generating Maps with Python](https://cf-courses-data.s3.us.cloud-object-storage.appdomain.cloud/IBMDeveloperSkillsNetwork-DV0101EN-SkillsNetwork/labs/v4/DV0101EN-Exercise-Generating-Maps-in-Python.ipynb)\n",
   "metadata": {}
  },
  {
   "cell_type": "code",
   "source": [
    "## Task 1: Mark all launch sites on a map\n",
    "launch_sites = {\n",
    "    'CCAFS LC-40': [28.5623, -80.5774],\n",
    "    'CCAFS SLC-40': [28.5632, -80.5768],\n",
    "    'KSC LC-39A': [28.5733, -80.6469],\n",
    "    'VAFB SLC-4E': [34.6328, -120.6108]\n",
    "}\n",
    "\n",
    "\n",
    "# Haritayı oluştur ve başlangıç noktasını ayarla\n",
    "spacex_map = folium.Map(location=[28.5623, -80.5774], zoom_start=5)\n",
    "\n",
    "# Her fırlatma sahasını haritada işaretle\n",
    "for site, coords in launch_sites.items():\n",
    "    folium.Marker(\n",
    "        location=coords, \n",
    "        popup=site, \n",
    "        icon=folium.Icon(color='blue', icon='rocket')\n",
    "    ).add_to(spacex_map)\n",
    "\n",
    "# Haritayı kaydet\n",
    "spacex_map.save(\"spacex_launch_sites_map.html\")\n"
   ],
   "metadata": {
    "ExecuteTime": {
     "end_time": "2024-10-19T13:17:54.658717Z",
     "start_time": "2024-10-19T13:17:54.645796Z"
    }
   },
   "outputs": [],
   "execution_count": 8
  },
  {
   "cell_type": "markdown",
   "source": "First, let's try to add each site's location on a map using site's latitude and longitude coordinates\n",
   "metadata": {}
  },
  {
   "cell_type": "markdown",
   "source": "The following dataset with the name `spacex_launch_geo.csv` is an augmented dataset with latitude and longitude added for each site.\n",
   "metadata": {}
  },
  {
   "cell_type": "code",
   "source": [
    "# Download and read the `spacex_launch_geo.csv`\n",
    "\n",
    "import io,requests\n",
    "\n",
    "URL = 'https://cf-courses-data.s3.us.cloud-object-storage.appdomain.cloud/IBM-DS0321EN-SkillsNetwork/datasets/spacex_launch_geo.csv'\n",
    "resp =  requests.get(URL)\n",
    "spacex_csv_file = io.BytesIO(resp.content)\n",
    "spacex_df=pd.read_csv(spacex_csv_file)"
   ],
   "metadata": {
    "ExecuteTime": {
     "end_time": "2024-10-19T13:17:57.531521Z",
     "start_time": "2024-10-19T13:17:56.579214Z"
    }
   },
   "outputs": [],
   "execution_count": 9
  },
  {
   "cell_type": "markdown",
   "source": "Now, you can take a look at what are the coordinates for each site.\n",
   "metadata": {}
  },
  {
   "cell_type": "code",
   "source": [
    "# Select relevant sub-columns: `Launch Site`, `Lat(Latitude)`, `Long(Longitude)`, `class`\n",
    "spacex_df = spacex_df[['Launch Site', 'Lat', 'Long', 'class']]\n",
    "launch_sites_df = spacex_df.groupby(['Launch Site'], as_index=False).first()\n",
    "launch_sites_df = launch_sites_df[['Launch Site', 'Lat', 'Long']]\n",
    "launch_sites_df\n"
   ],
   "metadata": {
    "ExecuteTime": {
     "end_time": "2024-10-19T13:17:58.734368Z",
     "start_time": "2024-10-19T13:17:58.725487Z"
    }
   },
   "outputs": [
    {
     "data": {
      "text/plain": [
       "    Launch Site        Lat        Long\n",
       "0   CCAFS LC-40  28.562302  -80.577356\n",
       "1  CCAFS SLC-40  28.563197  -80.576820\n",
       "2    KSC LC-39A  28.573255  -80.646895\n",
       "3   VAFB SLC-4E  34.632834 -120.610745"
      ],
      "text/html": [
       "<div>\n",
       "<style scoped>\n",
       "    .dataframe tbody tr th:only-of-type {\n",
       "        vertical-align: middle;\n",
       "    }\n",
       "\n",
       "    .dataframe tbody tr th {\n",
       "        vertical-align: top;\n",
       "    }\n",
       "\n",
       "    .dataframe thead th {\n",
       "        text-align: right;\n",
       "    }\n",
       "</style>\n",
       "<table border=\"1\" class=\"dataframe\">\n",
       "  <thead>\n",
       "    <tr style=\"text-align: right;\">\n",
       "      <th></th>\n",
       "      <th>Launch Site</th>\n",
       "      <th>Lat</th>\n",
       "      <th>Long</th>\n",
       "    </tr>\n",
       "  </thead>\n",
       "  <tbody>\n",
       "    <tr>\n",
       "      <th>0</th>\n",
       "      <td>CCAFS LC-40</td>\n",
       "      <td>28.562302</td>\n",
       "      <td>-80.577356</td>\n",
       "    </tr>\n",
       "    <tr>\n",
       "      <th>1</th>\n",
       "      <td>CCAFS SLC-40</td>\n",
       "      <td>28.563197</td>\n",
       "      <td>-80.576820</td>\n",
       "    </tr>\n",
       "    <tr>\n",
       "      <th>2</th>\n",
       "      <td>KSC LC-39A</td>\n",
       "      <td>28.573255</td>\n",
       "      <td>-80.646895</td>\n",
       "    </tr>\n",
       "    <tr>\n",
       "      <th>3</th>\n",
       "      <td>VAFB SLC-4E</td>\n",
       "      <td>34.632834</td>\n",
       "      <td>-120.610745</td>\n",
       "    </tr>\n",
       "  </tbody>\n",
       "</table>\n",
       "</div>"
      ]
     },
     "execution_count": 10,
     "metadata": {},
     "output_type": "execute_result"
    }
   ],
   "execution_count": 10
  },
  {
   "cell_type": "markdown",
   "source": "Above coordinates are just plain numbers that can not give you any intuitive insights about where are those launch sites. If you are very good at geography, you can interpret those numbers directly in your mind. If not, that's fine too. Let's visualize those locations by pinning them on a map.\n",
   "metadata": {}
  },
  {
   "cell_type": "markdown",
   "source": "We first need to create a folium `Map` object, with an initial center location to be NASA Johnson Space Center at Houston, Texas.\n",
   "metadata": {}
  },
  {
   "cell_type": "code",
   "source": "# Start location is NASA Johnson Space Center\nnasa_coordinate = [29.559684888503615, -95.0830971930759]\nsite_map = folium.Map(location=nasa_coordinate, zoom_start=10)",
   "metadata": {
    "ExecuteTime": {
     "end_time": "2024-10-19T13:18:00.794274Z",
     "start_time": "2024-10-19T13:18:00.788160Z"
    }
   },
   "outputs": [],
   "execution_count": 11
  },
  {
   "cell_type": "markdown",
   "source": "We could use `folium.Circle` to add a highlighted circle area with a text label on a specific coordinate. For example,\n",
   "metadata": {}
  },
  {
   "cell_type": "code",
   "source": "# Create a blue circle at NASA Johnson Space Center's coordinate with a popup label showing its name\ncircle = folium.Circle(nasa_coordinate, radius=1000, color='#d35400', fill=True).add_child(folium.Popup('NASA Johnson Space Center'))\n# Create a blue circle at NASA Johnson Space Center's coordinate with a icon showing its name\nmarker = folium.map.Marker(\n    nasa_coordinate,\n    # Create an icon as a text label\n    icon=DivIcon(\n        icon_size=(20,20),\n        icon_anchor=(0,0),\n        html='<div style=\"font-size: 12; color:#d35400;\"><b>%s</b></div>' % 'NASA JSC',\n        )\n    )\nsite_map.add_child(circle)\nsite_map.add_child(marker)",
   "metadata": {
    "ExecuteTime": {
     "end_time": "2024-10-19T13:18:01.682758Z",
     "start_time": "2024-10-19T13:18:01.674934Z"
    }
   },
   "outputs": [
    {
     "data": {
      "text/plain": [
       "<folium.folium.Map at 0x1e7823dd190>"
      ],
      "text/html": [
       "<div style=\"width:100%;\"><div style=\"position:relative;width:100%;height:0;padding-bottom:60%;\"><span style=\"color:#565656\">Make this Notebook Trusted to load map: File -> Trust Notebook</span><iframe srcdoc=\"&lt;!DOCTYPE html&gt;\n",
       "&lt;html&gt;\n",
       "&lt;head&gt;\n",
       "    \n",
       "    &lt;meta http-equiv=&quot;content-type&quot; content=&quot;text/html; charset=UTF-8&quot; /&gt;\n",
       "    \n",
       "        &lt;script&gt;\n",
       "            L_NO_TOUCH = false;\n",
       "            L_DISABLE_3D = false;\n",
       "        &lt;/script&gt;\n",
       "    \n",
       "    &lt;style&gt;html, body {width: 100%;height: 100%;margin: 0;padding: 0;}&lt;/style&gt;\n",
       "    &lt;style&gt;#map {position:absolute;top:0;bottom:0;right:0;left:0;}&lt;/style&gt;\n",
       "    &lt;script src=&quot;https://cdn.jsdelivr.net/npm/leaflet@1.9.3/dist/leaflet.js&quot;&gt;&lt;/script&gt;\n",
       "    &lt;script src=&quot;https://code.jquery.com/jquery-3.7.1.min.js&quot;&gt;&lt;/script&gt;\n",
       "    &lt;script src=&quot;https://cdn.jsdelivr.net/npm/bootstrap@5.2.2/dist/js/bootstrap.bundle.min.js&quot;&gt;&lt;/script&gt;\n",
       "    &lt;script src=&quot;https://cdnjs.cloudflare.com/ajax/libs/Leaflet.awesome-markers/2.0.2/leaflet.awesome-markers.js&quot;&gt;&lt;/script&gt;\n",
       "    &lt;link rel=&quot;stylesheet&quot; href=&quot;https://cdn.jsdelivr.net/npm/leaflet@1.9.3/dist/leaflet.css&quot;/&gt;\n",
       "    &lt;link rel=&quot;stylesheet&quot; href=&quot;https://cdn.jsdelivr.net/npm/bootstrap@5.2.2/dist/css/bootstrap.min.css&quot;/&gt;\n",
       "    &lt;link rel=&quot;stylesheet&quot; href=&quot;https://netdna.bootstrapcdn.com/bootstrap/3.0.0/css/bootstrap-glyphicons.css&quot;/&gt;\n",
       "    &lt;link rel=&quot;stylesheet&quot; href=&quot;https://cdn.jsdelivr.net/npm/@fortawesome/fontawesome-free@6.2.0/css/all.min.css&quot;/&gt;\n",
       "    &lt;link rel=&quot;stylesheet&quot; href=&quot;https://cdnjs.cloudflare.com/ajax/libs/Leaflet.awesome-markers/2.0.2/leaflet.awesome-markers.css&quot;/&gt;\n",
       "    &lt;link rel=&quot;stylesheet&quot; href=&quot;https://cdn.jsdelivr.net/gh/python-visualization/folium/folium/templates/leaflet.awesome.rotate.min.css&quot;/&gt;\n",
       "    \n",
       "            &lt;meta name=&quot;viewport&quot; content=&quot;width=device-width,\n",
       "                initial-scale=1.0, maximum-scale=1.0, user-scalable=no&quot; /&gt;\n",
       "            &lt;style&gt;\n",
       "                #map_2be377ceaadb52a7906b24f6d39feaa3 {\n",
       "                    position: relative;\n",
       "                    width: 100.0%;\n",
       "                    height: 100.0%;\n",
       "                    left: 0.0%;\n",
       "                    top: 0.0%;\n",
       "                }\n",
       "                .leaflet-container { font-size: 1rem; }\n",
       "            &lt;/style&gt;\n",
       "        \n",
       "&lt;/head&gt;\n",
       "&lt;body&gt;\n",
       "    \n",
       "    \n",
       "            &lt;div class=&quot;folium-map&quot; id=&quot;map_2be377ceaadb52a7906b24f6d39feaa3&quot; &gt;&lt;/div&gt;\n",
       "        \n",
       "&lt;/body&gt;\n",
       "&lt;script&gt;\n",
       "    \n",
       "    \n",
       "            var map_2be377ceaadb52a7906b24f6d39feaa3 = L.map(\n",
       "                &quot;map_2be377ceaadb52a7906b24f6d39feaa3&quot;,\n",
       "                {\n",
       "                    center: [29.559684888503615, -95.0830971930759],\n",
       "                    crs: L.CRS.EPSG3857,\n",
       "                    zoom: 10,\n",
       "                    zoomControl: true,\n",
       "                    preferCanvas: false,\n",
       "                }\n",
       "            );\n",
       "\n",
       "            \n",
       "\n",
       "        \n",
       "    \n",
       "            var tile_layer_e83d2c77f781665488b07a595c8a621b = L.tileLayer(\n",
       "                &quot;https://tile.openstreetmap.org/{z}/{x}/{y}.png&quot;,\n",
       "                {&quot;attribution&quot;: &quot;\\u0026copy; \\u003ca href=\\&quot;https://www.openstreetmap.org/copyright\\&quot;\\u003eOpenStreetMap\\u003c/a\\u003e contributors&quot;, &quot;detectRetina&quot;: false, &quot;maxNativeZoom&quot;: 19, &quot;maxZoom&quot;: 19, &quot;minZoom&quot;: 0, &quot;noWrap&quot;: false, &quot;opacity&quot;: 1, &quot;subdomains&quot;: &quot;abc&quot;, &quot;tms&quot;: false}\n",
       "            );\n",
       "        \n",
       "    \n",
       "            tile_layer_e83d2c77f781665488b07a595c8a621b.addTo(map_2be377ceaadb52a7906b24f6d39feaa3);\n",
       "        \n",
       "    \n",
       "            var circle_7adbbd59b35fadaef48bb0d231dbb5d2 = L.circle(\n",
       "                [29.559684888503615, -95.0830971930759],\n",
       "                {&quot;bubblingMouseEvents&quot;: true, &quot;color&quot;: &quot;#d35400&quot;, &quot;dashArray&quot;: null, &quot;dashOffset&quot;: null, &quot;fill&quot;: true, &quot;fillColor&quot;: &quot;#d35400&quot;, &quot;fillOpacity&quot;: 0.2, &quot;fillRule&quot;: &quot;evenodd&quot;, &quot;lineCap&quot;: &quot;round&quot;, &quot;lineJoin&quot;: &quot;round&quot;, &quot;opacity&quot;: 1.0, &quot;radius&quot;: 1000, &quot;stroke&quot;: true, &quot;weight&quot;: 3}\n",
       "            ).addTo(map_2be377ceaadb52a7906b24f6d39feaa3);\n",
       "        \n",
       "    \n",
       "        var popup_5187942a15fd222f8ca9ab1d057a1c69 = L.popup({&quot;maxWidth&quot;: &quot;100%&quot;});\n",
       "\n",
       "        \n",
       "            \n",
       "                var html_fc49b4cb432f93f52adede7b73646596 = $(`&lt;div id=&quot;html_fc49b4cb432f93f52adede7b73646596&quot; style=&quot;width: 100.0%; height: 100.0%;&quot;&gt;NASA Johnson Space Center&lt;/div&gt;`)[0];\n",
       "                popup_5187942a15fd222f8ca9ab1d057a1c69.setContent(html_fc49b4cb432f93f52adede7b73646596);\n",
       "            \n",
       "        \n",
       "\n",
       "        circle_7adbbd59b35fadaef48bb0d231dbb5d2.bindPopup(popup_5187942a15fd222f8ca9ab1d057a1c69)\n",
       "        ;\n",
       "\n",
       "        \n",
       "    \n",
       "    \n",
       "            var marker_8af7f42391776255fe87f45c4eb04eaf = L.marker(\n",
       "                [29.559684888503615, -95.0830971930759],\n",
       "                {}\n",
       "            ).addTo(map_2be377ceaadb52a7906b24f6d39feaa3);\n",
       "        \n",
       "    \n",
       "            var div_icon_de47524012a47203e2e259063437cfd3 = L.divIcon({&quot;className&quot;: &quot;empty&quot;, &quot;html&quot;: &quot;\\u003cdiv style=\\&quot;font-size: 12; color:#d35400;\\&quot;\\u003e\\u003cb\\u003eNASA JSC\\u003c/b\\u003e\\u003c/div\\u003e&quot;, &quot;iconAnchor&quot;: [0, 0], &quot;iconSize&quot;: [20, 20]});\n",
       "            marker_8af7f42391776255fe87f45c4eb04eaf.setIcon(div_icon_de47524012a47203e2e259063437cfd3);\n",
       "        \n",
       "&lt;/script&gt;\n",
       "&lt;/html&gt;\" style=\"position:absolute;width:100%;height:100%;left:0;top:0;border:none !important;\" allowfullscreen webkitallowfullscreen mozallowfullscreen></iframe></div></div>"
      ]
     },
     "execution_count": 12,
     "metadata": {},
     "output_type": "execute_result"
    }
   ],
   "execution_count": 12
  },
  {
   "cell_type": "markdown",
   "source": "and you should find a small yellow circle near the city of Houston and you can zoom-in to see a larger circle.\n",
   "metadata": {}
  },
  {
   "cell_type": "markdown",
   "source": "Now, let's add a circle for each launch site in data frame `launch_sites`\n",
   "metadata": {}
  },
  {
   "cell_type": "markdown",
   "source": "*TODO:*  Create and add `folium.Circle` and `folium.Marker` for each launch site on the site map\n",
   "metadata": {}
  },
  {
   "cell_type": "markdown",
   "source": "An example of folium.Circle:\n",
   "metadata": {}
  },
  {
   "cell_type": "markdown",
   "source": "`folium.Circle(coordinate, radius=1000, color='#000000', fill=True).add_child(folium.Popup(...))`\n",
   "metadata": {}
  },
  {
   "cell_type": "markdown",
   "source": "An example of folium.Marker:\n",
   "metadata": {}
  },
  {
   "cell_type": "markdown",
   "source": "`folium.map.Marker(coordinate, icon=DivIcon(icon_size=(20,20),icon_anchor=(0,0), html='<div style=\"font-size: 12; color:#d35400;\"><b>%s</b></div>' % 'label', ))`\n",
   "metadata": {}
  },
  {
   "cell_type": "code",
   "source": "# Initial the map\nsite_map = folium.Map(location=nasa_coordinate, zoom_start=5)\n# For each launch site, add a Circle object based on its coordinate (Lat, Long) values. In addition, add Launch site name as a popup label\n",
   "metadata": {
    "ExecuteTime": {
     "end_time": "2024-10-19T13:18:06.143297Z",
     "start_time": "2024-10-19T13:18:06.137663Z"
    }
   },
   "outputs": [],
   "execution_count": 13
  },
  {
   "cell_type": "markdown",
   "source": "The generated map with marked launch sites should look similar to the following:\n",
   "metadata": {}
  },
  {
   "metadata": {
    "ExecuteTime": {
     "end_time": "2024-10-19T13:19:57.890359Z",
     "start_time": "2024-10-19T13:19:57.885123Z"
    }
   },
   "cell_type": "code",
   "source": "spacex_df.columns",
   "outputs": [
    {
     "data": {
      "text/plain": [
       "Index(['Launch Site', 'Lat', 'Long', 'class'], dtype='object')"
      ]
     },
     "execution_count": 18,
     "metadata": {},
     "output_type": "execute_result"
    }
   ],
   "execution_count": 18
  },
  {
   "cell_type": "markdown",
   "source": "<center>\n    <img src=\"https://cf-courses-data.s3.us.cloud-object-storage.appdomain.cloud/IBM-DS0321EN-SkillsNetwork/labs/module_3/images/launch_site_markers.png\">\n</center>\n",
   "metadata": {}
  },
  {
   "cell_type": "markdown",
   "source": "Now, you can explore the map by zoom-in/out the marked areas\n, and try to answer the following questions:\n\n*   Are all launch sites in proximity to the Equator line?\n*   Are all launch sites in very close proximity to the coast?\n\nAlso please try to explain your findings.\n",
   "metadata": {}
  },
  {
   "cell_type": "code",
   "source": [
    "# Task 2: Mark the success/failed launches for each site on the map\n",
    "\n",
    "# MarkerCluster nesnesini oluştur\n",
    "marker_cluster = MarkerCluster()\n",
    "\n",
    "# Haritayı oluştur\n",
    "spacex_map = folium.Map(location=[28.5623, -80.5774], zoom_start=5)\n",
    "\n",
    "# Her bir fırlatma kaydı için işaretleyici (marker) ekle\n",
    "for index, record in spacex_df.iterrows():\n",
    "    launch_site = record['Launch Site']\n",
    "    launch_coords = [record['Lat'], record['Long']]\n",
    "    outcome = record['class']  # Başarı (1) ya da başarısızlık (0)\n",
    "\n",
    "    # Başarılar için yeşil işaret, başarısızlıklar için kırmızı işaret\n",
    "    if outcome == 1:\n",
    "        marker = folium.Marker(location=launch_coords, popup=f'Success at {launch_site}', \n",
    "                               icon=folium.Icon(color='green', icon='ok'))\n",
    "    else:\n",
    "        marker = folium.Marker(location=launch_coords, popup=f'Failed at {launch_site}', \n",
    "                               icon=folium.Icon(color='red', icon='remove'))\n",
    "    \n",
    "    # İşaretleyiciyi MarkerCluster'a ekle\n",
    "    marker_cluster.add_child(marker)\n",
    "\n",
    "# MarkerCluster'ı haritaya ekle\n",
    "spacex_map.add_child(marker_cluster)\n",
    "\n",
    "# Haritayı kaydet\n",
    "spacex_map.save(\"spacex_launch_success_failures.html\")\n"
   ],
   "metadata": {
    "ExecuteTime": {
     "end_time": "2024-10-19T13:20:15.488605Z",
     "start_time": "2024-10-19T13:20:15.421613Z"
    }
   },
   "outputs": [],
   "execution_count": 20
  },
  {
   "cell_type": "markdown",
   "source": "Next, let's try to enhance the map by adding the launch outcomes for each site, and see which sites have high success rates.\nRecall that data frame spacex_df has detailed launch records, and the `class` column indicates if this launch was successful or not\n",
   "metadata": {}
  },
  {
   "cell_type": "code",
   "source": "spacex_df.tail(10)",
   "metadata": {
    "ExecuteTime": {
     "end_time": "2024-10-19T13:20:17.329280Z",
     "start_time": "2024-10-19T13:20:17.322345Z"
    }
   },
   "outputs": [
    {
     "data": {
      "text/plain": [
       "     Launch Site        Lat       Long  class\n",
       "46    KSC LC-39A  28.573255 -80.646895      1\n",
       "47    KSC LC-39A  28.573255 -80.646895      1\n",
       "48    KSC LC-39A  28.573255 -80.646895      1\n",
       "49  CCAFS SLC-40  28.563197 -80.576820      1\n",
       "50  CCAFS SLC-40  28.563197 -80.576820      1\n",
       "51  CCAFS SLC-40  28.563197 -80.576820      0\n",
       "52  CCAFS SLC-40  28.563197 -80.576820      0\n",
       "53  CCAFS SLC-40  28.563197 -80.576820      0\n",
       "54  CCAFS SLC-40  28.563197 -80.576820      1\n",
       "55  CCAFS SLC-40  28.563197 -80.576820      0"
      ],
      "text/html": [
       "<div>\n",
       "<style scoped>\n",
       "    .dataframe tbody tr th:only-of-type {\n",
       "        vertical-align: middle;\n",
       "    }\n",
       "\n",
       "    .dataframe tbody tr th {\n",
       "        vertical-align: top;\n",
       "    }\n",
       "\n",
       "    .dataframe thead th {\n",
       "        text-align: right;\n",
       "    }\n",
       "</style>\n",
       "<table border=\"1\" class=\"dataframe\">\n",
       "  <thead>\n",
       "    <tr style=\"text-align: right;\">\n",
       "      <th></th>\n",
       "      <th>Launch Site</th>\n",
       "      <th>Lat</th>\n",
       "      <th>Long</th>\n",
       "      <th>class</th>\n",
       "    </tr>\n",
       "  </thead>\n",
       "  <tbody>\n",
       "    <tr>\n",
       "      <th>46</th>\n",
       "      <td>KSC LC-39A</td>\n",
       "      <td>28.573255</td>\n",
       "      <td>-80.646895</td>\n",
       "      <td>1</td>\n",
       "    </tr>\n",
       "    <tr>\n",
       "      <th>47</th>\n",
       "      <td>KSC LC-39A</td>\n",
       "      <td>28.573255</td>\n",
       "      <td>-80.646895</td>\n",
       "      <td>1</td>\n",
       "    </tr>\n",
       "    <tr>\n",
       "      <th>48</th>\n",
       "      <td>KSC LC-39A</td>\n",
       "      <td>28.573255</td>\n",
       "      <td>-80.646895</td>\n",
       "      <td>1</td>\n",
       "    </tr>\n",
       "    <tr>\n",
       "      <th>49</th>\n",
       "      <td>CCAFS SLC-40</td>\n",
       "      <td>28.563197</td>\n",
       "      <td>-80.576820</td>\n",
       "      <td>1</td>\n",
       "    </tr>\n",
       "    <tr>\n",
       "      <th>50</th>\n",
       "      <td>CCAFS SLC-40</td>\n",
       "      <td>28.563197</td>\n",
       "      <td>-80.576820</td>\n",
       "      <td>1</td>\n",
       "    </tr>\n",
       "    <tr>\n",
       "      <th>51</th>\n",
       "      <td>CCAFS SLC-40</td>\n",
       "      <td>28.563197</td>\n",
       "      <td>-80.576820</td>\n",
       "      <td>0</td>\n",
       "    </tr>\n",
       "    <tr>\n",
       "      <th>52</th>\n",
       "      <td>CCAFS SLC-40</td>\n",
       "      <td>28.563197</td>\n",
       "      <td>-80.576820</td>\n",
       "      <td>0</td>\n",
       "    </tr>\n",
       "    <tr>\n",
       "      <th>53</th>\n",
       "      <td>CCAFS SLC-40</td>\n",
       "      <td>28.563197</td>\n",
       "      <td>-80.576820</td>\n",
       "      <td>0</td>\n",
       "    </tr>\n",
       "    <tr>\n",
       "      <th>54</th>\n",
       "      <td>CCAFS SLC-40</td>\n",
       "      <td>28.563197</td>\n",
       "      <td>-80.576820</td>\n",
       "      <td>1</td>\n",
       "    </tr>\n",
       "    <tr>\n",
       "      <th>55</th>\n",
       "      <td>CCAFS SLC-40</td>\n",
       "      <td>28.563197</td>\n",
       "      <td>-80.576820</td>\n",
       "      <td>0</td>\n",
       "    </tr>\n",
       "  </tbody>\n",
       "</table>\n",
       "</div>"
      ]
     },
     "execution_count": 21,
     "metadata": {},
     "output_type": "execute_result"
    }
   ],
   "execution_count": 21
  },
  {
   "cell_type": "markdown",
   "source": "Next, let's create markers for all launch records.\nIf a launch was successful `(class=1)`, then we use a green marker and if a launch was failed, we use a red marker `(class=0)`\n",
   "metadata": {}
  },
  {
   "cell_type": "markdown",
   "source": "Note that a launch only happens in one of the four launch sites, which means many launch records will have the exact same coordinate. Marker clusters can be a good way to simplify a map containing many markers having the same coordinate.\n",
   "metadata": {}
  },
  {
   "cell_type": "markdown",
   "source": "Let's first create a `MarkerCluster` object\n",
   "metadata": {}
  },
  {
   "cell_type": "code",
   "source": "marker_cluster = MarkerCluster()\n",
   "metadata": {
    "ExecuteTime": {
     "end_time": "2024-10-19T13:20:19.054694Z",
     "start_time": "2024-10-19T13:20:19.050080Z"
    }
   },
   "outputs": [],
   "execution_count": 22
  },
  {
   "cell_type": "markdown",
   "source": "*TODO:* Create a new column in `spacex_df` dataframe called `marker_color` to store the marker colors based on the `class` value\n",
   "metadata": {}
  },
  {
   "cell_type": "code",
   "source": [
    "\n",
    "# Apply a function to check the value of `class` column\n",
    "# If class=1, marker_color value will be green\n",
    "# If class=0, marker_color value will be red\n",
    "# marker_color sütununu class değerine göre ayarla\n",
    "spacex_df['marker_color'] = spacex_df['class'].apply(lambda x: 'green' if x == 1 else 'red')\n"
   ],
   "metadata": {
    "ExecuteTime": {
     "end_time": "2024-10-19T13:20:52.695786Z",
     "start_time": "2024-10-19T13:20:52.690173Z"
    }
   },
   "outputs": [],
   "execution_count": 23
  },
  {
   "cell_type": "markdown",
   "source": "*TODO:* For each launch result in `spacex_df` data frame, add a `folium.Marker` to `marker_cluster`\n",
   "metadata": {}
  },
  {
   "cell_type": "code",
   "source": [
    "# Haritayı oluştur\n",
    "spacex_map = folium.Map(location=[28.5623, -80.5774], zoom_start=5)\n",
    "\n",
    "# MarkerCluster nesnesini oluştur\n",
    "marker_cluster = MarkerCluster()\n",
    "\n",
    "# Her fırlatma kaydını ekle\n",
    "for index, record in spacex_df.iterrows():\n",
    "    launch_coords = [record['Lat'], record['Long']]\n",
    "    marker = folium.Marker(\n",
    "        location=launch_coords, \n",
    "        popup=f\"Launch {index}: {'Success' if record['class'] == 1 else 'Failure'}\", \n",
    "        icon=folium.Icon(color=record['marker_color'])\n",
    "    )\n",
    "    marker_cluster.add_child(marker)\n",
    "\n",
    "# MarkerCluster'ı haritaya ekle\n",
    "spacex_map.add_child(marker_cluster)\n",
    "\n",
    "# Haritayı kaydet\n",
    "spacex_map.save(\"spacex_launch_sites_with_success_failure.html\")\n"
   ],
   "metadata": {
    "ExecuteTime": {
     "end_time": "2024-10-19T13:21:07.968788Z",
     "start_time": "2024-10-19T13:21:07.917075Z"
    }
   },
   "outputs": [],
   "execution_count": 25
  },
  {
   "cell_type": "markdown",
   "source": "Your updated map may look like the following screenshots:\n",
   "metadata": {}
  },
  {
   "cell_type": "markdown",
   "source": "<center>\n    <img src=\"https://cf-courses-data.s3.us.cloud-object-storage.appdomain.cloud/IBM-DS0321EN-SkillsNetwork/labs/module_3/images/launch_site_marker_cluster.png\">\n</center>\n",
   "metadata": {}
  },
  {
   "cell_type": "markdown",
   "source": "<center>\n    <img src=\"https://cf-courses-data.s3.us.cloud-object-storage.appdomain.cloud/IBM-DS0321EN-SkillsNetwork/labs/module_3/images/launch_site_marker_cluster_zoomed.png\">\n</center>\n",
   "metadata": {}
  },
  {
   "cell_type": "markdown",
   "source": "From the color-labeled markers in marker clusters, you should be able to easily identify which launch sites have relatively high success rates.\n",
   "metadata": {}
  },
  {
   "cell_type": "code",
   "source": [
    "from geopy.distance import geodesic\n",
    "\n",
    "# Fırlatma sahalarının koordinatları (örneğin)\n",
    "launch_sites_coords = {\n",
    "    'CCAFS LC-40': (28.5623, -80.5774),\n",
    "    'CCAFS SLC-40': (28.5632, -80.5768),\n",
    "    'KSC LC-39A': (28.5733, -80.6469),\n",
    "    'VAFB SLC-4E': (34.6328, -120.6108)\n",
    "}\n",
    "\n",
    "# Örnek bir referans noktası (örneğin bir şehir)\n",
    "reference_location = (28.3922, -80.6077)  # Yakınlardaki bir konum (Florida)\n",
    "\n",
    "# Mesafeleri hesaplama\n",
    "for site, coords in launch_sites_coords.items():\n",
    "    distance = geodesic(coords, reference_location).km\n",
    "    print(f\"{site} fırlatma sahasının mesafesi referans noktasına: {distance:.2f} km\")\n"
   ],
   "metadata": {
    "ExecuteTime": {
     "end_time": "2024-10-19T13:23:26.714301Z",
     "start_time": "2024-10-19T13:23:26.708837Z"
    }
   },
   "outputs": [
    {
     "name": "stdout",
     "output_type": "stream",
     "text": [
      "CCAFS LC-40 fırlatma sahasının mesafesi referans noktasına: 19.08 km\n",
      "CCAFS SLC-40 fırlatma sahasının mesafesi referans noktasına: 19.19 km\n",
      "KSC LC-39A fırlatma sahasının mesafesi referans noktasına: 20.43 km\n",
      "VAFB SLC-4E fırlatma sahasının mesafesi referans noktasına: 3836.91 km\n"
     ]
    }
   ],
   "execution_count": 34
  },
  {
   "cell_type": "markdown",
   "source": "Next, we need to explore and analyze the proximities of launch sites.\n",
   "metadata": {}
  },
  {
   "cell_type": "markdown",
   "source": "Let's first add a `MousePosition` on the map to get coordinate for a mouse over a point on the map. As such, while you are exploring the map, you can easily find the coordinates of any points of interests (such as railway)\n",
   "metadata": {}
  },
  {
   "cell_type": "code",
   "source": "# Add Mouse Position to get the coordinate (Lat, Long) for a mouse over on the map\nformatter = \"function(num) {return L.Util.formatNum(num, 5);};\"\nmouse_position = MousePosition(\n    position='topright',\n    separator=' Long: ',\n    empty_string='NaN',\n    lng_first=False,\n    num_digits=20,\n    prefix='Lat:',\n    lat_formatter=formatter,\n    lng_formatter=formatter,\n)\n\nsite_map.add_child(mouse_position)\nsite_map",
   "metadata": {
    "ExecuteTime": {
     "end_time": "2024-10-19T13:23:30.154487Z",
     "start_time": "2024-10-19T13:23:30.146993Z"
    }
   },
   "outputs": [
    {
     "data": {
      "text/plain": [
       "<folium.folium.Map at 0x1e782b8c3d0>"
      ],
      "text/html": [
       "<div style=\"width:100%;\"><div style=\"position:relative;width:100%;height:0;padding-bottom:60%;\"><span style=\"color:#565656\">Make this Notebook Trusted to load map: File -> Trust Notebook</span><iframe srcdoc=\"&lt;!DOCTYPE html&gt;\n",
       "&lt;html&gt;\n",
       "&lt;head&gt;\n",
       "    \n",
       "    &lt;meta http-equiv=&quot;content-type&quot; content=&quot;text/html; charset=UTF-8&quot; /&gt;\n",
       "    \n",
       "        &lt;script&gt;\n",
       "            L_NO_TOUCH = false;\n",
       "            L_DISABLE_3D = false;\n",
       "        &lt;/script&gt;\n",
       "    \n",
       "    &lt;style&gt;html, body {width: 100%;height: 100%;margin: 0;padding: 0;}&lt;/style&gt;\n",
       "    &lt;style&gt;#map {position:absolute;top:0;bottom:0;right:0;left:0;}&lt;/style&gt;\n",
       "    &lt;script src=&quot;https://cdn.jsdelivr.net/npm/leaflet@1.9.3/dist/leaflet.js&quot;&gt;&lt;/script&gt;\n",
       "    &lt;script src=&quot;https://code.jquery.com/jquery-3.7.1.min.js&quot;&gt;&lt;/script&gt;\n",
       "    &lt;script src=&quot;https://cdn.jsdelivr.net/npm/bootstrap@5.2.2/dist/js/bootstrap.bundle.min.js&quot;&gt;&lt;/script&gt;\n",
       "    &lt;script src=&quot;https://cdnjs.cloudflare.com/ajax/libs/Leaflet.awesome-markers/2.0.2/leaflet.awesome-markers.js&quot;&gt;&lt;/script&gt;\n",
       "    &lt;link rel=&quot;stylesheet&quot; href=&quot;https://cdn.jsdelivr.net/npm/leaflet@1.9.3/dist/leaflet.css&quot;/&gt;\n",
       "    &lt;link rel=&quot;stylesheet&quot; href=&quot;https://cdn.jsdelivr.net/npm/bootstrap@5.2.2/dist/css/bootstrap.min.css&quot;/&gt;\n",
       "    &lt;link rel=&quot;stylesheet&quot; href=&quot;https://netdna.bootstrapcdn.com/bootstrap/3.0.0/css/bootstrap-glyphicons.css&quot;/&gt;\n",
       "    &lt;link rel=&quot;stylesheet&quot; href=&quot;https://cdn.jsdelivr.net/npm/@fortawesome/fontawesome-free@6.2.0/css/all.min.css&quot;/&gt;\n",
       "    &lt;link rel=&quot;stylesheet&quot; href=&quot;https://cdnjs.cloudflare.com/ajax/libs/Leaflet.awesome-markers/2.0.2/leaflet.awesome-markers.css&quot;/&gt;\n",
       "    &lt;link rel=&quot;stylesheet&quot; href=&quot;https://cdn.jsdelivr.net/gh/python-visualization/folium/folium/templates/leaflet.awesome.rotate.min.css&quot;/&gt;\n",
       "    \n",
       "            &lt;meta name=&quot;viewport&quot; content=&quot;width=device-width,\n",
       "                initial-scale=1.0, maximum-scale=1.0, user-scalable=no&quot; /&gt;\n",
       "            &lt;style&gt;\n",
       "                #map_e96b395c72bc2780d3cd1e02f9c7b2f5 {\n",
       "                    position: relative;\n",
       "                    width: 100.0%;\n",
       "                    height: 100.0%;\n",
       "                    left: 0.0%;\n",
       "                    top: 0.0%;\n",
       "                }\n",
       "                .leaflet-container { font-size: 1rem; }\n",
       "            &lt;/style&gt;\n",
       "        \n",
       "    &lt;script src=&quot;https://cdn.jsdelivr.net/gh/ardhi/Leaflet.MousePosition/src/L.Control.MousePosition.min.js&quot;&gt;&lt;/script&gt;\n",
       "    &lt;link rel=&quot;stylesheet&quot; href=&quot;https://cdn.jsdelivr.net/gh/ardhi/Leaflet.MousePosition/src/L.Control.MousePosition.min.css&quot;/&gt;\n",
       "&lt;/head&gt;\n",
       "&lt;body&gt;\n",
       "    \n",
       "    \n",
       "            &lt;div class=&quot;folium-map&quot; id=&quot;map_e96b395c72bc2780d3cd1e02f9c7b2f5&quot; &gt;&lt;/div&gt;\n",
       "        \n",
       "&lt;/body&gt;\n",
       "&lt;script&gt;\n",
       "    \n",
       "    \n",
       "            var map_e96b395c72bc2780d3cd1e02f9c7b2f5 = L.map(\n",
       "                &quot;map_e96b395c72bc2780d3cd1e02f9c7b2f5&quot;,\n",
       "                {\n",
       "                    center: [29.559684888503615, -95.0830971930759],\n",
       "                    crs: L.CRS.EPSG3857,\n",
       "                    zoom: 5,\n",
       "                    zoomControl: true,\n",
       "                    preferCanvas: false,\n",
       "                }\n",
       "            );\n",
       "\n",
       "            \n",
       "\n",
       "        \n",
       "    \n",
       "            var tile_layer_957773d337794ca72e4551ef70debb70 = L.tileLayer(\n",
       "                &quot;https://tile.openstreetmap.org/{z}/{x}/{y}.png&quot;,\n",
       "                {&quot;attribution&quot;: &quot;\\u0026copy; \\u003ca href=\\&quot;https://www.openstreetmap.org/copyright\\&quot;\\u003eOpenStreetMap\\u003c/a\\u003e contributors&quot;, &quot;detectRetina&quot;: false, &quot;maxNativeZoom&quot;: 19, &quot;maxZoom&quot;: 19, &quot;minZoom&quot;: 0, &quot;noWrap&quot;: false, &quot;opacity&quot;: 1, &quot;subdomains&quot;: &quot;abc&quot;, &quot;tms&quot;: false}\n",
       "            );\n",
       "        \n",
       "    \n",
       "            tile_layer_957773d337794ca72e4551ef70debb70.addTo(map_e96b395c72bc2780d3cd1e02f9c7b2f5);\n",
       "        \n",
       "    \n",
       "            var mouse_position_9524012bcc9d2537f46588455c7a3d03 = new L.Control.MousePosition(\n",
       "                {&quot;emptyString&quot;: &quot;NaN&quot;, &quot;lngFirst&quot;: false, &quot;numDigits&quot;: 20, &quot;position&quot;: &quot;topright&quot;, &quot;prefix&quot;: &quot;Lat:&quot;, &quot;separator&quot;: &quot; Long: &quot;}\n",
       "            );\n",
       "            mouse_position_9524012bcc9d2537f46588455c7a3d03.options[&quot;latFormatter&quot;] =\n",
       "                function(num) {return L.Util.formatNum(num, 5);};;\n",
       "            mouse_position_9524012bcc9d2537f46588455c7a3d03.options[&quot;lngFormatter&quot;] =\n",
       "                function(num) {return L.Util.formatNum(num, 5);};;\n",
       "            map_e96b395c72bc2780d3cd1e02f9c7b2f5.addControl(mouse_position_9524012bcc9d2537f46588455c7a3d03);\n",
       "        \n",
       "&lt;/script&gt;\n",
       "&lt;/html&gt;\" style=\"position:absolute;width:100%;height:100%;left:0;top:0;border:none !important;\" allowfullscreen webkitallowfullscreen mozallowfullscreen></iframe></div></div>"
      ]
     },
     "execution_count": 35,
     "metadata": {},
     "output_type": "execute_result"
    }
   ],
   "execution_count": 35
  },
  {
   "cell_type": "markdown",
   "source": "Now zoom in to a launch site and explore its proximity to see if you can easily find any railway, highway, coastline, etc. Move your mouse to these points and mark down their coordinates (shown on the top-left) in order to the distance to the launch site.\n",
   "metadata": {}
  },
  {
   "cell_type": "markdown",
   "source": "Now zoom in to a launch site and explore its proximity to see if you can easily find any railway, highway, coastline, etc. Move your mouse to these points and mark down their coordinates (shown on the top-left) in order to the distance to the launch site.\n",
   "metadata": {}
  },
  {
   "cell_type": "code",
   "source": "from math import sin, cos, sqrt, atan2, radians\n\ndef calculate_distance(lat1, lon1, lat2, lon2):\n    # approximate radius of earth in km\n    R = 6373.0\n\n    lat1 = radians(lat1)\n    lon1 = radians(lon1)\n    lat2 = radians(lat2)\n    lon2 = radians(lon2)\n\n    dlon = lon2 - lon1\n    dlat = lat2 - lat1\n\n    a = sin(dlat / 2)**2 + cos(lat1) * cos(lat2) * sin(dlon / 2)**2\n    c = 2 * atan2(sqrt(a), sqrt(1 - a))\n\n    distance = R * c\n    return distance",
   "metadata": {
    "ExecuteTime": {
     "end_time": "2024-10-19T13:23:32.109055Z",
     "start_time": "2024-10-19T13:23:32.104345Z"
    }
   },
   "outputs": [],
   "execution_count": 36
  },
  {
   "cell_type": "markdown",
   "source": "*TODO:* Mark down a point on the closest coastline using MousePosition and calculate the distance between the coastline point and the launch site.\n",
   "metadata": {}
  },
  {
   "cell_type": "code",
   "source": "# find coordinate of the closet coastline\n# e.g.,: Lat: 28.56367  Lon: -80.57163\n# distance_coastline = calculate_distance(launch_site_lat, launch_site_lon, coastline_lat, coastline_lon)",
   "metadata": {},
   "outputs": [],
   "execution_count": null
  },
  {
   "cell_type": "code",
   "source": "# Create and add a folium.Marker on your selected closest coastline point on the map\n# Display the distance between coastline point and launch site using the icon property \n# for example\n# distance_marker = folium.Marker(\n#    coordinate,\n#    icon=DivIcon(\n#        icon_size=(20,20),\n#        icon_anchor=(0,0),\n#        html='<div style=\"font-size: 12; color:#d35400;\"><b>%s</b></div>' % \"{:10.2f} KM\".format(distance),\n#        )\n#    )",
   "metadata": {},
   "outputs": [],
   "execution_count": null
  },
  {
   "cell_type": "markdown",
   "source": "*TODO:* Draw a `PolyLine` between a launch site to the selected coastline point\n",
   "metadata": {}
  },
  {
   "cell_type": "code",
   "source": "# Create a `folium.PolyLine` object using the coastline coordinates and launch site coordinate\n# lines=folium.PolyLine(locations=coordinates, weight=1)\nsite_map.add_child(lines)",
   "metadata": {},
   "outputs": [],
   "execution_count": null
  },
  {
   "cell_type": "markdown",
   "source": "Your updated map with distance line should look like the following screenshot:\n",
   "metadata": {}
  },
  {
   "cell_type": "markdown",
   "source": "<center>\n    <img src=\"https://cf-courses-data.s3.us.cloud-object-storage.appdomain.cloud/IBM-DS0321EN-SkillsNetwork/labs/module_3/images/launch_site_marker_distance.png\">\n</center>\n",
   "metadata": {}
  },
  {
   "cell_type": "markdown",
   "source": "*TODO:* Similarly, you can draw a line betwee a launch site to its closest city, railway, highway, etc. You need to use `MousePosition` to find the their coordinates on the map first\n",
   "metadata": {}
  },
  {
   "cell_type": "markdown",
   "source": "A railway map symbol may look like this:\n",
   "metadata": {}
  },
  {
   "cell_type": "markdown",
   "source": "<center>\n    <img src=\"https://cf-courses-data.s3.us.cloud-object-storage.appdomain.cloud/IBM-DS0321EN-SkillsNetwork/labs/module_3/images/railway.png\">\n</center>\n",
   "metadata": {}
  },
  {
   "cell_type": "markdown",
   "source": "A highway map symbol may look like this:\n",
   "metadata": {}
  },
  {
   "cell_type": "markdown",
   "source": "<center>\n    <img src=\"https://cf-courses-data.s3.us.cloud-object-storage.appdomain.cloud/IBM-DS0321EN-SkillsNetwork/labs/module_3/images/highway.png\">\n</center>\n",
   "metadata": {}
  },
  {
   "cell_type": "markdown",
   "source": "A city map symbol may look like this:\n",
   "metadata": {}
  },
  {
   "cell_type": "markdown",
   "source": "<center>\n    <img src=\"https://cf-courses-data.s3.us.cloud-object-storage.appdomain.cloud/IBM-DS0321EN-SkillsNetwork/labs/module_3/images/city.png\">\n</center>\n",
   "metadata": {}
  },
  {
   "cell_type": "code",
   "source": "# Create a marker with distance to a closest city, railway, highway, etc.\n# Draw a line between the marker to the launch site\n",
   "metadata": {},
   "outputs": [],
   "execution_count": null
  },
  {
   "cell_type": "code",
   "source": "",
   "metadata": {},
   "outputs": [],
   "execution_count": null
  },
  {
   "cell_type": "code",
   "source": "",
   "metadata": {},
   "outputs": [],
   "execution_count": null
  },
  {
   "cell_type": "markdown",
   "source": "After you plot distance lines to the proximities, you can answer the following questions easily:\n\n*   Are launch sites in close proximity to railways?\n*   Are launch sites in close proximity to highways?\n*   Are launch sites in close proximity to coastline?\n*   Do launch sites keep certain distance away from cities?\n\nAlso please try to explain your findings.\n",
   "metadata": {}
  },
  {
   "cell_type": "markdown",
   "source": "# Next Steps:\n\nNow you have discovered many interesting insights related to the launch sites' location using folium, in a very interactive way. Next, you will need to build a dashboard using Ploty Dash on detailed launch records.\n",
   "metadata": {}
  },
  {
   "cell_type": "markdown",
   "source": "## Authors\n",
   "metadata": {}
  },
  {
   "cell_type": "markdown",
   "source": "[Pratiksha Verma](https://www.linkedin.com/in/pratiksha-verma-6487561b1/)\n",
   "metadata": {}
  },
  {
   "cell_type": "markdown",
   "source": "<!--## Change Log--!>\n",
   "metadata": {}
  },
  {
   "cell_type": "markdown",
   "source": "<!--| Date (YYYY-MM-DD) | Version | Changed By      | Change Description      |\n| ----------------- | ------- | -------------   | ----------------------- |\n| 2022-11-09        | 1.0     | Pratiksha Verma | Converted initial version to Jupyterlite|--!>\n",
   "metadata": {}
  },
  {
   "cell_type": "markdown",
   "source": "### <h3 align=\"center\"> IBM Corporation 2022. All rights reserved. <h3/>\n",
   "metadata": {}
  }
 ]
}
